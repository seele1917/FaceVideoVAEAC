{
 "cells": [
  {
   "cell_type": "code",
   "execution_count": 1,
   "metadata": {},
   "outputs": [
    {
     "ename": "ModuleNotFoundError",
     "evalue": "No module named 'mask_generators'",
     "output_type": "error",
     "traceback": [
      "\u001b[1;31m---------------------------------------------------------------------------\u001b[0m",
      "\u001b[1;31mModuleNotFoundError\u001b[0m                       Traceback (most recent call last)",
      "\u001b[1;32m<ipython-input-1-7c3a91701056>\u001b[0m in \u001b[0;36m<module>\u001b[1;34m\u001b[0m\n\u001b[0;32m      2\u001b[0m \u001b[1;32mfrom\u001b[0m \u001b[0mtorch\u001b[0m\u001b[1;33m.\u001b[0m\u001b[0moptim\u001b[0m \u001b[1;32mimport\u001b[0m \u001b[0mAdam\u001b[0m\u001b[1;33m\u001b[0m\u001b[1;33m\u001b[0m\u001b[0m\n\u001b[0;32m      3\u001b[0m \u001b[1;33m\u001b[0m\u001b[0m\n\u001b[1;32m----> 4\u001b[1;33m \u001b[1;32mfrom\u001b[0m \u001b[0mmask_generators\u001b[0m \u001b[1;32mimport\u001b[0m \u001b[0mImageMaskGenerator\u001b[0m\u001b[1;33m\u001b[0m\u001b[1;33m\u001b[0m\u001b[0m\n\u001b[0m\u001b[0;32m      5\u001b[0m \u001b[1;32mfrom\u001b[0m \u001b[0mnn_utils\u001b[0m \u001b[1;32mimport\u001b[0m \u001b[0mResBlock\u001b[0m\u001b[1;33m,\u001b[0m \u001b[0mMemoryLayer\u001b[0m\u001b[1;33m,\u001b[0m \u001b[0mSkipConnection\u001b[0m\u001b[1;33m\u001b[0m\u001b[1;33m\u001b[0m\u001b[0m\n\u001b[0;32m      6\u001b[0m \u001b[1;32mfrom\u001b[0m \u001b[0mprob_utils\u001b[0m \u001b[1;32mimport\u001b[0m \u001b[0mnormal_parse_params\u001b[0m\u001b[1;33m,\u001b[0m \u001b[0mGaussianLoss\u001b[0m\u001b[1;33m\u001b[0m\u001b[1;33m\u001b[0m\u001b[0m\n",
      "\u001b[1;31mModuleNotFoundError\u001b[0m: No module named 'mask_generators'"
     ]
    }
   ],
   "source": [
    "from torch import nn\n",
    "from torch.optim import Adam\n",
    "\n",
    "from mask_generators import ImageMaskGenerator\n",
    "from nn_utils import ResBlock, MemoryLayer, SkipConnection\n",
    "from prob_utils import normal_parse_params, GaussianLoss\n",
    "\n",
    "\n",
    "# sampler from the model generative distribution\n",
    "# here we return mean of the Gaussian to avoid white noise\n",
    "def sampler(params):\n",
    "    return normal_parse_params(params).mean\n",
    "\n",
    "\n",
    "def optimizer(parameters):\n",
    "    return Adam(parameters, lr=2e-4)"
   ]
  },
  {
   "cell_type": "code",
   "execution_count": 2,
   "metadata": {},
   "outputs": [],
   "source": [
    "def sampler(params):\n",
    "    return normal_parse_params(params).mean\n",
    "\n",
    "\n",
    "def optimizer(parameters):\n",
    "    return Adam(parameters, lr=2e-4)"
   ]
  },
  {
   "cell_type": "code",
   "execution_count": null,
   "metadata": {},
   "outputs": [],
   "source": []
  }
 ],
 "metadata": {
  "kernelspec": {
   "display_name": "Python 3",
   "language": "python",
   "name": "python3"
  },
  "language_info": {
   "codemirror_mode": {
    "name": "ipython",
    "version": 3
   },
   "file_extension": ".py",
   "mimetype": "text/x-python",
   "name": "python",
   "nbconvert_exporter": "python",
   "pygments_lexer": "ipython3",
   "version": "3.7.5"
  }
 },
 "nbformat": 4,
 "nbformat_minor": 4
}
